{
  "nbformat": 4,
  "nbformat_minor": 0,
  "metadata": {
    "colab": {
      "name": "jetbot_training.ipynb",
      "provenance": [],
      "authorship_tag": "ABX9TyNAwzdhQT7ju35M/otXxkST",
      "include_colab_link": true
    },
    "kernelspec": {
      "name": "python3",
      "display_name": "Python 3"
    },
    "accelerator": "GPU"
  },
  "cells": [
    {
      "cell_type": "markdown",
      "metadata": {
        "id": "view-in-github",
        "colab_type": "text"
      },
      "source": [
        "<a href=\"https://colab.research.google.com/github/Kaping/machine-learning-python/blob/main/jetbot_training.ipynb\" target=\"_parent\"><img src=\"https://colab.research.google.com/assets/colab-badge.svg\" alt=\"Open In Colab\"/></a>"
      ]
    },
    {
      "cell_type": "code",
      "metadata": {
        "id": "APy08HUAM5YF"
      },
      "source": [
        "import torch\r\n",
        "import torch.optim as optim\r\n",
        "import torch.nn.functional as F\r\n",
        "import torchvision\r\n",
        "import torchvision.datasets as datasets\r\n",
        "import torchvision.models as models\r\n",
        "import torchvision.transforms as transforms\r\n",
        "import glob\r\n",
        "import PIL.Image\r\n",
        "import os\r\n",
        "import numpy as np\r\n",
        "import torch.nn as nn\r\n",
        "from torchvision import transforms, datasets, models"
      ],
      "execution_count": 10,
      "outputs": []
    },
    {
      "cell_type": "code",
      "metadata": {
        "colab": {
          "base_uri": "https://localhost:8080/"
        },
        "id": "vr_3x31mM7rS",
        "outputId": "21538fcf-a4e5-43f9-e7e4-f9188b502b21"
      },
      "source": [
        "!unzip -q road_following.zip"
      ],
      "execution_count": 2,
      "outputs": [
        {
          "output_type": "stream",
          "text": [
            "unzip:  cannot find or open road_following.zip, road_following.zip.zip or road_following.zip.ZIP.\n"
          ],
          "name": "stdout"
        }
      ]
    },
    {
      "cell_type": "code",
      "metadata": {
        "colab": {
          "base_uri": "https://localhost:8080/"
        },
        "id": "dj3QhMWmNlP4",
        "outputId": "ef534f72-e0e4-4c87-dbcf-e444696c9433"
      },
      "source": [
        "USE_CUDA = torch.cuda.is_available()\r\n",
        "DEVICE = torch.device(\"cuda\" if USE_CUDA else \"cpu\")\r\n",
        "print(DEVICE)"
      ],
      "execution_count": 4,
      "outputs": [
        {
          "output_type": "stream",
          "text": [
            "cuda\n"
          ],
          "name": "stdout"
        }
      ]
    },
    {
      "cell_type": "code",
      "metadata": {
        "id": "RWmX8Kv9N1i7"
      },
      "source": [
        "EPOCHS     = 300\r\n",
        "BATCH_SIZE = 902"
      ],
      "execution_count": 6,
      "outputs": []
    },
    {
      "cell_type": "code",
      "metadata": {
        "id": "lgZMY1WxN_08"
      },
      "source": [
        "def get_x(path):\r\n",
        "    \"\"\"Gets the x value from the image filename\"\"\"\r\n",
        "    return (float(int(path[3:6])) - 50.0) / 50.0\r\n",
        "\r\n",
        "def get_y(path):\r\n",
        "    \"\"\"Gets the y value from the image filename\"\"\"\r\n",
        "    return (float(int(path[7:10])) - 50.0) / 50.0\r\n",
        "\r\n",
        "class XYDataset(torch.utils.data.Dataset):\r\n",
        "    \r\n",
        "    def __init__(self, directory, random_hflips=False):\r\n",
        "        self.directory = directory\r\n",
        "        self.random_hflips = random_hflips\r\n",
        "        self.image_paths = glob.glob(os.path.join(self.directory, '*.jpg'))\r\n",
        "        self.color_jitter = transforms.ColorJitter(0.3, 0.3, 0.3, 0.3)\r\n",
        "    \r\n",
        "    def __len__(self):\r\n",
        "        return len(self.image_paths)\r\n",
        "    \r\n",
        "    def __getitem__(self, idx):\r\n",
        "        image_path = self.image_paths[idx]\r\n",
        "        \r\n",
        "        image = PIL.Image.open(image_path)\r\n",
        "        x = float(get_x(os.path.basename(image_path)))\r\n",
        "        y = float(get_y(os.path.basename(image_path)))\r\n",
        "        \r\n",
        "        if float(np.random.rand(1)) > 0.5:\r\n",
        "            image = transforms.functional.hflip(image)\r\n",
        "            x = -x\r\n",
        "        \r\n",
        "        image = self.color_jitter(image)\r\n",
        "        image = transforms.functional.resize(image, (224, 224))\r\n",
        "        image = transforms.functional.to_tensor(image)\r\n",
        "        image = image.numpy()[::-1].copy()\r\n",
        "        image = torch.from_numpy(image)\r\n",
        "        image = transforms.functional.normalize(image, [0.485, 0.456, 0.406], [0.229, 0.224, 0.225])\r\n",
        "        \r\n",
        "        return image, torch.tensor([x, y]).float()\r\n",
        "    \r\n",
        "dataset = XYDataset('dataset_xy', random_hflips=False)"
      ],
      "execution_count": 11,
      "outputs": []
    },
    {
      "cell_type": "code",
      "metadata": {
        "id": "3P8rv6taODET"
      },
      "source": [
        "class BasicBlock(nn.Module):\r\n",
        "    def __init__(self, in_planes, planes, stride=1):\r\n",
        "        super(BasicBlock, self).__init__()\r\n",
        "        self.conv1 = nn.Conv2d(in_planes, planes, kernel_size=3,\r\n",
        "                               stride=stride, padding=1, bias=False)\r\n",
        "        self.bn1 = nn.BatchNorm2d(planes)\r\n",
        "        self.conv2 = nn.Conv2d(planes, planes, kernel_size=3,\r\n",
        "                               stride=1, padding=1, bias=False)\r\n",
        "        self.bn2 = nn.BatchNorm2d(planes)\r\n",
        "\r\n",
        "        self.shortcut = nn.Sequential()\r\n",
        "        if stride != 1 or in_planes != planes:\r\n",
        "            self.shortcut = nn.Sequential(\r\n",
        "                nn.Conv2d(in_planes, planes,\r\n",
        "                          kernel_size=1, stride=stride, bias=False),\r\n",
        "                nn.BatchNorm2d(planes)\r\n",
        "            )\r\n",
        "\r\n",
        "    def forward(self, x):\r\n",
        "        out = F.relu(self.bn1(self.conv1(x)))\r\n",
        "        out = self.bn2(self.conv2(out))\r\n",
        "        out += self.shortcut(x)\r\n",
        "        out = F.relu(out)\r\n",
        "        return out\r\n",
        "\r\n",
        "\r\n",
        "class ResNet(nn.Module):\r\n",
        "    def __init__(self, num_classes=10):\r\n",
        "        super(ResNet, self).__init__()\r\n",
        "        self.in_planes = 16\r\n",
        "\r\n",
        "        self.conv1 = nn.Conv2d(3, 16, kernel_size=3,\r\n",
        "                               stride=1, padding=1, bias=False)\r\n",
        "        self.bn1 = nn.BatchNorm2d(16)\r\n",
        "        self.layer1 = self._make_layer(16, 2, stride=1)\r\n",
        "        self.layer2 = self._make_layer(32, 2, stride=2)\r\n",
        "        self.layer3 = self._make_layer(64, 2, stride=2)\r\n",
        "        self.linear = nn.Linear(64, num_classes)\r\n",
        "\r\n",
        "    def _make_layer(self, planes, num_blocks, stride):\r\n",
        "        strides = [stride] + [1]*(num_blocks-1)\r\n",
        "        layers = []\r\n",
        "        for stride in strides:\r\n",
        "            layers.append(BasicBlock(self.in_planes, planes, stride))\r\n",
        "            self.in_planes = planes\r\n",
        "        return nn.Sequential(*layers)\r\n",
        "\r\n",
        "    def forward(self, x):\r\n",
        "        out = F.relu(self.bn1(self.conv1(x)))\r\n",
        "        out = self.layer1(out)\r\n",
        "        out = self.layer2(out)\r\n",
        "        out = self.layer3(out)\r\n",
        "        out = F.avg_pool2d(out, 8)\r\n",
        "        out = out.view(out.size(0), -1)\r\n",
        "        out = self.linear(out)\r\n",
        "        return out"
      ],
      "execution_count": 12,
      "outputs": []
    }
  ]
}