{
  "nbformat": 4,
  "nbformat_minor": 0,
  "metadata": {
    "kernelspec": {
      "display_name": "Python 3",
      "language": "python",
      "name": "python3"
    },
    "language_info": {
      "codemirror_mode": {
        "name": "ipython",
        "version": 3
      },
      "file_extension": ".py",
      "mimetype": "text/x-python",
      "name": "python",
      "nbconvert_exporter": "python",
      "pygments_lexer": "ipython3",
      "version": "3.7.0"
    },
    "colab": {
      "name": "resnet.ipynb",
      "provenance": [],
      "include_colab_link": true
    },
    "widgets": {
      "application/vnd.jupyter.widget-state+json": {
        "27f006ee6df747e18fbd87f60179409d": {
          "model_module": "@jupyter-widgets/controls",
          "model_name": "HBoxModel",
          "state": {
            "_view_name": "HBoxView",
            "_dom_classes": [],
            "_model_name": "HBoxModel",
            "_view_module": "@jupyter-widgets/controls",
            "_model_module_version": "1.5.0",
            "_view_count": null,
            "_view_module_version": "1.5.0",
            "box_style": "",
            "layout": "IPY_MODEL_3770237fe4744259a2e0dd24d551344d",
            "_model_module": "@jupyter-widgets/controls",
            "children": [
              "IPY_MODEL_42b774d854414880b23a6994323361d1",
              "IPY_MODEL_57a54f02f0a14a95b15186a0e5fd97f1"
            ]
          }
        },
        "3770237fe4744259a2e0dd24d551344d": {
          "model_module": "@jupyter-widgets/base",
          "model_name": "LayoutModel",
          "state": {
            "_view_name": "LayoutView",
            "grid_template_rows": null,
            "right": null,
            "justify_content": null,
            "_view_module": "@jupyter-widgets/base",
            "overflow": null,
            "_model_module_version": "1.2.0",
            "_view_count": null,
            "flex_flow": null,
            "width": null,
            "min_width": null,
            "border": null,
            "align_items": null,
            "bottom": null,
            "_model_module": "@jupyter-widgets/base",
            "top": null,
            "grid_column": null,
            "overflow_y": null,
            "overflow_x": null,
            "grid_auto_flow": null,
            "grid_area": null,
            "grid_template_columns": null,
            "flex": null,
            "_model_name": "LayoutModel",
            "justify_items": null,
            "grid_row": null,
            "max_height": null,
            "align_content": null,
            "visibility": null,
            "align_self": null,
            "height": null,
            "min_height": null,
            "padding": null,
            "grid_auto_rows": null,
            "grid_gap": null,
            "max_width": null,
            "order": null,
            "_view_module_version": "1.2.0",
            "grid_template_areas": null,
            "object_position": null,
            "object_fit": null,
            "grid_auto_columns": null,
            "margin": null,
            "display": null,
            "left": null
          }
        },
        "42b774d854414880b23a6994323361d1": {
          "model_module": "@jupyter-widgets/controls",
          "model_name": "FloatProgressModel",
          "state": {
            "_view_name": "ProgressView",
            "style": "IPY_MODEL_cda96a6b1a644928b813e35349ee4090",
            "_dom_classes": [],
            "description": "",
            "_model_name": "FloatProgressModel",
            "bar_style": "info",
            "max": 1,
            "_view_module": "@jupyter-widgets/controls",
            "_model_module_version": "1.5.0",
            "value": 1,
            "_view_count": null,
            "_view_module_version": "1.5.0",
            "orientation": "horizontal",
            "min": 0,
            "description_tooltip": null,
            "_model_module": "@jupyter-widgets/controls",
            "layout": "IPY_MODEL_438e94156d5b490f8204959a67101b75"
          }
        },
        "57a54f02f0a14a95b15186a0e5fd97f1": {
          "model_module": "@jupyter-widgets/controls",
          "model_name": "HTMLModel",
          "state": {
            "_view_name": "HTMLView",
            "style": "IPY_MODEL_58ac351231d94c84a392b63ff3dc2d33",
            "_dom_classes": [],
            "description": "",
            "_model_name": "HTMLModel",
            "placeholder": "​",
            "_view_module": "@jupyter-widgets/controls",
            "_model_module_version": "1.5.0",
            "value": " 170500096/? [00:20&lt;00:00, 81317464.40it/s]",
            "_view_count": null,
            "_view_module_version": "1.5.0",
            "description_tooltip": null,
            "_model_module": "@jupyter-widgets/controls",
            "layout": "IPY_MODEL_4892c65c4b6b4fcabdfc173f2cd51f73"
          }
        },
        "cda96a6b1a644928b813e35349ee4090": {
          "model_module": "@jupyter-widgets/controls",
          "model_name": "ProgressStyleModel",
          "state": {
            "_view_name": "StyleView",
            "_model_name": "ProgressStyleModel",
            "description_width": "initial",
            "_view_module": "@jupyter-widgets/base",
            "_model_module_version": "1.5.0",
            "_view_count": null,
            "_view_module_version": "1.2.0",
            "bar_color": null,
            "_model_module": "@jupyter-widgets/controls"
          }
        },
        "438e94156d5b490f8204959a67101b75": {
          "model_module": "@jupyter-widgets/base",
          "model_name": "LayoutModel",
          "state": {
            "_view_name": "LayoutView",
            "grid_template_rows": null,
            "right": null,
            "justify_content": null,
            "_view_module": "@jupyter-widgets/base",
            "overflow": null,
            "_model_module_version": "1.2.0",
            "_view_count": null,
            "flex_flow": null,
            "width": null,
            "min_width": null,
            "border": null,
            "align_items": null,
            "bottom": null,
            "_model_module": "@jupyter-widgets/base",
            "top": null,
            "grid_column": null,
            "overflow_y": null,
            "overflow_x": null,
            "grid_auto_flow": null,
            "grid_area": null,
            "grid_template_columns": null,
            "flex": null,
            "_model_name": "LayoutModel",
            "justify_items": null,
            "grid_row": null,
            "max_height": null,
            "align_content": null,
            "visibility": null,
            "align_self": null,
            "height": null,
            "min_height": null,
            "padding": null,
            "grid_auto_rows": null,
            "grid_gap": null,
            "max_width": null,
            "order": null,
            "_view_module_version": "1.2.0",
            "grid_template_areas": null,
            "object_position": null,
            "object_fit": null,
            "grid_auto_columns": null,
            "margin": null,
            "display": null,
            "left": null
          }
        },
        "58ac351231d94c84a392b63ff3dc2d33": {
          "model_module": "@jupyter-widgets/controls",
          "model_name": "DescriptionStyleModel",
          "state": {
            "_view_name": "StyleView",
            "_model_name": "DescriptionStyleModel",
            "description_width": "",
            "_view_module": "@jupyter-widgets/base",
            "_model_module_version": "1.5.0",
            "_view_count": null,
            "_view_module_version": "1.2.0",
            "_model_module": "@jupyter-widgets/controls"
          }
        },
        "4892c65c4b6b4fcabdfc173f2cd51f73": {
          "model_module": "@jupyter-widgets/base",
          "model_name": "LayoutModel",
          "state": {
            "_view_name": "LayoutView",
            "grid_template_rows": null,
            "right": null,
            "justify_content": null,
            "_view_module": "@jupyter-widgets/base",
            "overflow": null,
            "_model_module_version": "1.2.0",
            "_view_count": null,
            "flex_flow": null,
            "width": null,
            "min_width": null,
            "border": null,
            "align_items": null,
            "bottom": null,
            "_model_module": "@jupyter-widgets/base",
            "top": null,
            "grid_column": null,
            "overflow_y": null,
            "overflow_x": null,
            "grid_auto_flow": null,
            "grid_area": null,
            "grid_template_columns": null,
            "flex": null,
            "_model_name": "LayoutModel",
            "justify_items": null,
            "grid_row": null,
            "max_height": null,
            "align_content": null,
            "visibility": null,
            "align_self": null,
            "height": null,
            "min_height": null,
            "padding": null,
            "grid_auto_rows": null,
            "grid_gap": null,
            "max_width": null,
            "order": null,
            "_view_module_version": "1.2.0",
            "grid_template_areas": null,
            "object_position": null,
            "object_fit": null,
            "grid_auto_columns": null,
            "margin": null,
            "display": null,
            "left": null
          }
        }
      }
    },
    "accelerator": "GPU"
  },
  "cells": [
    {
      "cell_type": "markdown",
      "metadata": {
        "id": "view-in-github",
        "colab_type": "text"
      },
      "source": [
        "<a href=\"https://colab.research.google.com/github/Kaping/machine-learning-python/blob/main/resnet.ipynb\" target=\"_parent\"><img src=\"https://colab.research.google.com/assets/colab-badge.svg\" alt=\"Open In Colab\"/></a>"
      ]
    },
    {
      "cell_type": "markdown",
      "metadata": {
        "id": "uWce_2wn5GL5"
      },
      "source": [
        "# 신경망 깊게 쌓아 컬러 데이터셋에 적용하기\n",
        "Convolutional Neural Network (CNN) 을 쌓아올려 딥한 러닝을 해봅시다."
      ]
    },
    {
      "cell_type": "code",
      "metadata": {
        "id": "rnHQwlwF5GL6"
      },
      "source": [
        "import torch\n",
        "import torch.nn as nn\n",
        "import torch.optim as optim\n",
        "import torch.nn.functional as F\n",
        "from torchvision import transforms, datasets, models"
      ],
      "execution_count": null,
      "outputs": []
    },
    {
      "cell_type": "code",
      "metadata": {
        "id": "r2LxjoR75GL7"
      },
      "source": [
        "USE_CUDA = torch.cuda.is_available()\n",
        "DEVICE = torch.device(\"cuda\" if USE_CUDA else \"cpu\")"
      ],
      "execution_count": null,
      "outputs": []
    },
    {
      "cell_type": "markdown",
      "metadata": {
        "id": "i7XEmRc95GL7"
      },
      "source": [
        "## 하이퍼파라미터 "
      ]
    },
    {
      "cell_type": "code",
      "metadata": {
        "id": "iNxeGX0n5GL7"
      },
      "source": [
        "EPOCHS     = 300\n",
        "BATCH_SIZE = 128"
      ],
      "execution_count": null,
      "outputs": []
    },
    {
      "cell_type": "markdown",
      "metadata": {
        "id": "l1ROzx-k5GL7"
      },
      "source": [
        "## 데이터셋 불러오기"
      ]
    },
    {
      "cell_type": "code",
      "metadata": {
        "colab": {
          "base_uri": "https://localhost:8080/",
          "height": 85,
          "referenced_widgets": [
            "27f006ee6df747e18fbd87f60179409d",
            "3770237fe4744259a2e0dd24d551344d",
            "42b774d854414880b23a6994323361d1",
            "57a54f02f0a14a95b15186a0e5fd97f1",
            "cda96a6b1a644928b813e35349ee4090",
            "438e94156d5b490f8204959a67101b75",
            "58ac351231d94c84a392b63ff3dc2d33",
            "4892c65c4b6b4fcabdfc173f2cd51f73"
          ]
        },
        "id": "VPGs70jc5GL7",
        "outputId": "392c5659-bf19-4edd-8518-6ef9039a4d9e"
      },
      "source": [
        "train_loader = torch.utils.data.DataLoader(\n",
        "    datasets.CIFAR10('./.data',\n",
        "                   train=True,\n",
        "                   download=True,\n",
        "                   transform=transforms.Compose([\n",
        "                       transforms.RandomCrop(32, padding=4),\n",
        "                       transforms.RandomHorizontalFlip(),\n",
        "                       transforms.ToTensor(),\n",
        "                       transforms.Normalize((0.5, 0.5, 0.5),\n",
        "                                            (0.5, 0.5, 0.5))])),\n",
        "    batch_size=BATCH_SIZE, shuffle=True)\n",
        "test_loader = torch.utils.data.DataLoader(\n",
        "    datasets.CIFAR10('./.data',\n",
        "                   train=False, \n",
        "                   transform=transforms.Compose([\n",
        "                       transforms.ToTensor(),\n",
        "                       transforms.Normalize((0.5, 0.5, 0.5),\n",
        "                                            (0.5, 0.5, 0.5))])),\n",
        "    batch_size=BATCH_SIZE, shuffle=True)"
      ],
      "execution_count": null,
      "outputs": [
        {
          "output_type": "stream",
          "text": [
            "Downloading https://www.cs.toronto.edu/~kriz/cifar-10-python.tar.gz to ./.data/cifar-10-python.tar.gz\n"
          ],
          "name": "stdout"
        },
        {
          "output_type": "display_data",
          "data": {
            "application/vnd.jupyter.widget-view+json": {
              "model_id": "27f006ee6df747e18fbd87f60179409d",
              "version_minor": 0,
              "version_major": 2
            },
            "text/plain": [
              "HBox(children=(FloatProgress(value=1.0, bar_style='info', max=1.0), HTML(value='')))"
            ]
          },
          "metadata": {
            "tags": []
          }
        },
        {
          "output_type": "stream",
          "text": [
            "Extracting ./.data/cifar-10-python.tar.gz to ./.data\n"
          ],
          "name": "stdout"
        }
      ]
    },
    {
      "cell_type": "markdown",
      "metadata": {
        "id": "sRF5zYUT5GL8"
      },
      "source": [
        "## ResNet 모델 만들기"
      ]
    },
    {
      "cell_type": "code",
      "metadata": {
        "id": "wJHWWp-V5GL8"
      },
      "source": [
        "class BasicBlock(nn.Module):\n",
        "    def __init__(self, in_planes, planes, stride=1):\n",
        "        super(BasicBlock, self).__init__()\n",
        "        self.conv1 = nn.Conv2d(in_planes, planes, kernel_size=3,\n",
        "                               stride=stride, padding=1, bias=False)\n",
        "        self.bn1 = nn.BatchNorm2d(planes)\n",
        "        self.conv2 = nn.Conv2d(planes, planes, kernel_size=3,\n",
        "                               stride=1, padding=1, bias=False)\n",
        "        self.bn2 = nn.BatchNorm2d(planes)\n",
        "\n",
        "        self.shortcut = nn.Sequential()\n",
        "        if stride != 1 or in_planes != planes:\n",
        "            self.shortcut = nn.Sequential(\n",
        "                nn.Conv2d(in_planes, planes,\n",
        "                          kernel_size=1, stride=stride, bias=False),\n",
        "                nn.BatchNorm2d(planes)\n",
        "            )\n",
        "\n",
        "    def forward(self, x):\n",
        "        out = F.relu(self.bn1(self.conv1(x)))\n",
        "        out = self.bn2(self.conv2(out))\n",
        "        out += self.shortcut(x)\n",
        "        out = F.relu(out)\n",
        "        return out\n",
        "\n",
        "\n",
        "class ResNet(nn.Module):\n",
        "    def __init__(self, num_classes=10):\n",
        "        super(ResNet, self).__init__()\n",
        "        self.in_planes = 16\n",
        "\n",
        "        self.conv1 = nn.Conv2d(3, 16, kernel_size=3,\n",
        "                               stride=1, padding=1, bias=False)\n",
        "        self.bn1 = nn.BatchNorm2d(16)\n",
        "        self.layer1 = self._make_layer(16, 2, stride=1)\n",
        "        self.layer2 = self._make_layer(32, 2, stride=2)\n",
        "        self.layer3 = self._make_layer(64, 2, stride=2)\n",
        "        self.linear = nn.Linear(64, num_classes)\n",
        "\n",
        "    def _make_layer(self, planes, num_blocks, stride):\n",
        "        strides = [stride] + [1]*(num_blocks-1)\n",
        "        layers = []\n",
        "        for stride in strides:\n",
        "            layers.append(BasicBlock(self.in_planes, planes, stride))\n",
        "            self.in_planes = planes\n",
        "        return nn.Sequential(*layers)\n",
        "\n",
        "    def forward(self, x):\n",
        "        out = F.relu(self.bn1(self.conv1(x)))\n",
        "        out = self.layer1(out)\n",
        "        out = self.layer2(out)\n",
        "        out = self.layer3(out)\n",
        "        out = F.avg_pool2d(out, 8)\n",
        "        out = out.view(out.size(0), -1)\n",
        "        out = self.linear(out)\n",
        "        return out"
      ],
      "execution_count": null,
      "outputs": []
    },
    {
      "cell_type": "markdown",
      "metadata": {
        "id": "5utDgno75GL9"
      },
      "source": [
        "## 준비"
      ]
    },
    {
      "cell_type": "code",
      "metadata": {
        "id": "cxzk1Ix85GL9"
      },
      "source": [
        "model = ResNet().to(DEVICE)\n",
        "optimizer = optim.SGD(model.parameters(), lr=0.1,\n",
        "                      momentum=0.9, weight_decay=0.0005)\n",
        "scheduler = optim.lr_scheduler.StepLR(optimizer, step_size=50, gamma=0.1)"
      ],
      "execution_count": null,
      "outputs": []
    },
    {
      "cell_type": "code",
      "metadata": {
        "colab": {
          "base_uri": "https://localhost:8080/"
        },
        "id": "YRmMd8di5GL9",
        "outputId": "aa893b53-7eef-465c-af5b-7299e18e0621"
      },
      "source": [
        "print(model)"
      ],
      "execution_count": null,
      "outputs": [
        {
          "output_type": "stream",
          "text": [
            "ResNet(\n",
            "  (conv1): Conv2d(3, 16, kernel_size=(3, 3), stride=(1, 1), padding=(1, 1), bias=False)\n",
            "  (bn1): BatchNorm2d(16, eps=1e-05, momentum=0.1, affine=True, track_running_stats=True)\n",
            "  (layer1): Sequential(\n",
            "    (0): BasicBlock(\n",
            "      (conv1): Conv2d(16, 16, kernel_size=(3, 3), stride=(1, 1), padding=(1, 1), bias=False)\n",
            "      (bn1): BatchNorm2d(16, eps=1e-05, momentum=0.1, affine=True, track_running_stats=True)\n",
            "      (conv2): Conv2d(16, 16, kernel_size=(3, 3), stride=(1, 1), padding=(1, 1), bias=False)\n",
            "      (bn2): BatchNorm2d(16, eps=1e-05, momentum=0.1, affine=True, track_running_stats=True)\n",
            "      (shortcut): Sequential()\n",
            "    )\n",
            "    (1): BasicBlock(\n",
            "      (conv1): Conv2d(16, 16, kernel_size=(3, 3), stride=(1, 1), padding=(1, 1), bias=False)\n",
            "      (bn1): BatchNorm2d(16, eps=1e-05, momentum=0.1, affine=True, track_running_stats=True)\n",
            "      (conv2): Conv2d(16, 16, kernel_size=(3, 3), stride=(1, 1), padding=(1, 1), bias=False)\n",
            "      (bn2): BatchNorm2d(16, eps=1e-05, momentum=0.1, affine=True, track_running_stats=True)\n",
            "      (shortcut): Sequential()\n",
            "    )\n",
            "  )\n",
            "  (layer2): Sequential(\n",
            "    (0): BasicBlock(\n",
            "      (conv1): Conv2d(16, 32, kernel_size=(3, 3), stride=(2, 2), padding=(1, 1), bias=False)\n",
            "      (bn1): BatchNorm2d(32, eps=1e-05, momentum=0.1, affine=True, track_running_stats=True)\n",
            "      (conv2): Conv2d(32, 32, kernel_size=(3, 3), stride=(1, 1), padding=(1, 1), bias=False)\n",
            "      (bn2): BatchNorm2d(32, eps=1e-05, momentum=0.1, affine=True, track_running_stats=True)\n",
            "      (shortcut): Sequential(\n",
            "        (0): Conv2d(16, 32, kernel_size=(1, 1), stride=(2, 2), bias=False)\n",
            "        (1): BatchNorm2d(32, eps=1e-05, momentum=0.1, affine=True, track_running_stats=True)\n",
            "      )\n",
            "    )\n",
            "    (1): BasicBlock(\n",
            "      (conv1): Conv2d(32, 32, kernel_size=(3, 3), stride=(1, 1), padding=(1, 1), bias=False)\n",
            "      (bn1): BatchNorm2d(32, eps=1e-05, momentum=0.1, affine=True, track_running_stats=True)\n",
            "      (conv2): Conv2d(32, 32, kernel_size=(3, 3), stride=(1, 1), padding=(1, 1), bias=False)\n",
            "      (bn2): BatchNorm2d(32, eps=1e-05, momentum=0.1, affine=True, track_running_stats=True)\n",
            "      (shortcut): Sequential()\n",
            "    )\n",
            "  )\n",
            "  (layer3): Sequential(\n",
            "    (0): BasicBlock(\n",
            "      (conv1): Conv2d(32, 64, kernel_size=(3, 3), stride=(2, 2), padding=(1, 1), bias=False)\n",
            "      (bn1): BatchNorm2d(64, eps=1e-05, momentum=0.1, affine=True, track_running_stats=True)\n",
            "      (conv2): Conv2d(64, 64, kernel_size=(3, 3), stride=(1, 1), padding=(1, 1), bias=False)\n",
            "      (bn2): BatchNorm2d(64, eps=1e-05, momentum=0.1, affine=True, track_running_stats=True)\n",
            "      (shortcut): Sequential(\n",
            "        (0): Conv2d(32, 64, kernel_size=(1, 1), stride=(2, 2), bias=False)\n",
            "        (1): BatchNorm2d(64, eps=1e-05, momentum=0.1, affine=True, track_running_stats=True)\n",
            "      )\n",
            "    )\n",
            "    (1): BasicBlock(\n",
            "      (conv1): Conv2d(64, 64, kernel_size=(3, 3), stride=(1, 1), padding=(1, 1), bias=False)\n",
            "      (bn1): BatchNorm2d(64, eps=1e-05, momentum=0.1, affine=True, track_running_stats=True)\n",
            "      (conv2): Conv2d(64, 64, kernel_size=(3, 3), stride=(1, 1), padding=(1, 1), bias=False)\n",
            "      (bn2): BatchNorm2d(64, eps=1e-05, momentum=0.1, affine=True, track_running_stats=True)\n",
            "      (shortcut): Sequential()\n",
            "    )\n",
            "  )\n",
            "  (linear): Linear(in_features=64, out_features=10, bias=True)\n",
            ")\n"
          ],
          "name": "stdout"
        }
      ]
    },
    {
      "cell_type": "markdown",
      "metadata": {
        "id": "6yeaXK0a5GL9"
      },
      "source": [
        "## 학습하기"
      ]
    },
    {
      "cell_type": "code",
      "metadata": {
        "id": "Bj0DEBg75GL9"
      },
      "source": [
        "def train(model, train_loader, optimizer, epoch):\n",
        "    model.train()\n",
        "    for batch_idx, (data, target) in enumerate(train_loader):\n",
        "        data, target = data.to(DEVICE), target.to(DEVICE)\n",
        "        optimizer.zero_grad()\n",
        "        output = model(data)\n",
        "        loss = F.cross_entropy(output, target)\n",
        "        loss.backward()\n",
        "        optimizer.step()"
      ],
      "execution_count": null,
      "outputs": []
    },
    {
      "cell_type": "markdown",
      "metadata": {
        "id": "y-cTINTg5GL9"
      },
      "source": [
        "## 테스트하기"
      ]
    },
    {
      "cell_type": "code",
      "metadata": {
        "id": "GB2MASi65GL9"
      },
      "source": [
        "def evaluate(model, test_loader):\n",
        "    model.eval()\n",
        "    test_loss = 0\n",
        "    correct = 0\n",
        "    with torch.no_grad():\n",
        "        for data, target in test_loader:\n",
        "            data, target = data.to(DEVICE), target.to(DEVICE)\n",
        "            output = model(data)\n",
        "\n",
        "            # 배치 오차를 합산\n",
        "            test_loss += F.cross_entropy(output, target,\n",
        "                                         reduction='sum').item()\n",
        "\n",
        "            # 가장 높은 값을 가진 인덱스가 바로 예측값\n",
        "            pred = output.max(1, keepdim=True)[1]\n",
        "            correct += pred.eq(target.view_as(pred)).sum().item()\n",
        "\n",
        "    test_loss /= len(test_loader.dataset)\n",
        "    test_accuracy = 100. * correct / len(test_loader.dataset)\n",
        "    return test_loss, test_accuracy"
      ],
      "execution_count": null,
      "outputs": []
    },
    {
      "cell_type": "code",
      "metadata": {
        "colab": {
          "base_uri": "https://localhost:8080/"
        },
        "id": "K8H-HO6M6eUq",
        "outputId": "cdfd015d-71ff-494c-ab3a-55782bc22850"
      },
      "source": [
        "print(DEVICE)"
      ],
      "execution_count": null,
      "outputs": [
        {
          "output_type": "stream",
          "text": [
            "cuda\n"
          ],
          "name": "stdout"
        }
      ]
    },
    {
      "cell_type": "markdown",
      "metadata": {
        "id": "8kRzdoBw5GL9"
      },
      "source": [
        "## 코드 돌려보기\n",
        "\n",
        "자, 이제 모든 준비가 끝났습니다. 코드를 돌려서 실제로 훈련이 되는지 확인해봅시다!"
      ]
    },
    {
      "cell_type": "code",
      "metadata": {
        "id": "qMIXNLS25GL9",
        "colab": {
          "base_uri": "https://localhost:8080/"
        },
        "outputId": "13a2a949-7d49-4fbc-94b2-93d777c2d95e"
      },
      "source": [
        "for epoch in range(1, EPOCHS + 1):\n",
        "    scheduler.step()\n",
        "    train(model, train_loader, optimizer, epoch)\n",
        "    test_loss, test_accuracy = evaluate(model, test_loader)\n",
        "    \n",
        "    print('[{}] Test Loss: {:.4f}, Accuracy: {:.2f}%'.format(\n",
        "          epoch, test_loss, test_accuracy))"
      ],
      "execution_count": null,
      "outputs": [
        {
          "output_type": "stream",
          "text": [
            "/usr/local/lib/python3.6/dist-packages/torch/optim/lr_scheduler.py:136: UserWarning: Detected call of `lr_scheduler.step()` before `optimizer.step()`. In PyTorch 1.1.0 and later, you should call them in the opposite order: `optimizer.step()` before `lr_scheduler.step()`.  Failure to do this will result in PyTorch skipping the first value of the learning rate schedule. See more details at https://pytorch.org/docs/stable/optim.html#how-to-adjust-learning-rate\n",
            "  \"https://pytorch.org/docs/stable/optim.html#how-to-adjust-learning-rate\", UserWarning)\n"
          ],
          "name": "stderr"
        },
        {
          "output_type": "stream",
          "text": [
            "[1] Test Loss: 1.4465, Accuracy: 48.74%\n",
            "[2] Test Loss: 1.2161, Accuracy: 57.17%\n",
            "[3] Test Loss: 0.9413, Accuracy: 67.68%\n",
            "[4] Test Loss: 0.9552, Accuracy: 67.97%\n",
            "[5] Test Loss: 0.8235, Accuracy: 71.32%\n",
            "[6] Test Loss: 0.7519, Accuracy: 74.19%\n",
            "[7] Test Loss: 0.9886, Accuracy: 69.81%\n",
            "[8] Test Loss: 0.6710, Accuracy: 76.83%\n",
            "[9] Test Loss: 0.7076, Accuracy: 76.20%\n",
            "[10] Test Loss: 0.6436, Accuracy: 78.31%\n",
            "[11] Test Loss: 0.8155, Accuracy: 72.96%\n",
            "[12] Test Loss: 0.7065, Accuracy: 76.28%\n",
            "[13] Test Loss: 0.8062, Accuracy: 74.02%\n",
            "[14] Test Loss: 0.8270, Accuracy: 73.68%\n",
            "[15] Test Loss: 0.7638, Accuracy: 75.65%\n",
            "[16] Test Loss: 0.6454, Accuracy: 78.31%\n",
            "[17] Test Loss: 0.7272, Accuracy: 76.61%\n",
            "[18] Test Loss: 0.8117, Accuracy: 74.26%\n",
            "[19] Test Loss: 0.6338, Accuracy: 78.47%\n",
            "[20] Test Loss: 0.7551, Accuracy: 75.34%\n",
            "[21] Test Loss: 0.6169, Accuracy: 79.19%\n",
            "[22] Test Loss: 0.6580, Accuracy: 78.50%\n",
            "[23] Test Loss: 0.7501, Accuracy: 75.45%\n",
            "[24] Test Loss: 0.7459, Accuracy: 75.47%\n",
            "[25] Test Loss: 0.8408, Accuracy: 74.03%\n",
            "[26] Test Loss: 0.5821, Accuracy: 80.28%\n",
            "[27] Test Loss: 0.6395, Accuracy: 79.19%\n",
            "[28] Test Loss: 0.7592, Accuracy: 76.14%\n",
            "[29] Test Loss: 1.0639, Accuracy: 68.19%\n",
            "[30] Test Loss: 0.6931, Accuracy: 77.09%\n",
            "[31] Test Loss: 0.7248, Accuracy: 75.91%\n",
            "[32] Test Loss: 0.5699, Accuracy: 80.66%\n",
            "[33] Test Loss: 0.6249, Accuracy: 79.65%\n",
            "[34] Test Loss: 0.7214, Accuracy: 76.80%\n",
            "[35] Test Loss: 0.7754, Accuracy: 75.57%\n",
            "[36] Test Loss: 0.7076, Accuracy: 78.11%\n",
            "[37] Test Loss: 0.7969, Accuracy: 74.80%\n",
            "[38] Test Loss: 0.8043, Accuracy: 74.73%\n",
            "[39] Test Loss: 0.9833, Accuracy: 70.86%\n",
            "[40] Test Loss: 0.7880, Accuracy: 75.08%\n",
            "[41] Test Loss: 0.6140, Accuracy: 79.08%\n",
            "[42] Test Loss: 0.6167, Accuracy: 79.98%\n",
            "[43] Test Loss: 0.6689, Accuracy: 77.28%\n",
            "[44] Test Loss: 0.7110, Accuracy: 77.11%\n",
            "[45] Test Loss: 0.6168, Accuracy: 79.27%\n",
            "[46] Test Loss: 0.6627, Accuracy: 78.31%\n",
            "[47] Test Loss: 0.6072, Accuracy: 79.94%\n",
            "[48] Test Loss: 1.0290, Accuracy: 68.55%\n",
            "[49] Test Loss: 0.6686, Accuracy: 78.02%\n",
            "[50] Test Loss: 0.3504, Accuracy: 88.38%\n",
            "[51] Test Loss: 0.3313, Accuracy: 89.06%\n",
            "[52] Test Loss: 0.3300, Accuracy: 89.28%\n",
            "[53] Test Loss: 0.3211, Accuracy: 89.52%\n",
            "[54] Test Loss: 0.3227, Accuracy: 89.42%\n",
            "[55] Test Loss: 0.3156, Accuracy: 89.47%\n",
            "[56] Test Loss: 0.3151, Accuracy: 89.55%\n",
            "[57] Test Loss: 0.3187, Accuracy: 89.36%\n",
            "[58] Test Loss: 0.3152, Accuracy: 89.65%\n",
            "[59] Test Loss: 0.3321, Accuracy: 89.12%\n",
            "[60] Test Loss: 0.3390, Accuracy: 88.85%\n",
            "[61] Test Loss: 0.3246, Accuracy: 89.90%\n",
            "[62] Test Loss: 0.3081, Accuracy: 89.87%\n",
            "[63] Test Loss: 0.3242, Accuracy: 89.19%\n",
            "[64] Test Loss: 0.3287, Accuracy: 89.37%\n",
            "[65] Test Loss: 0.3167, Accuracy: 89.52%\n",
            "[66] Test Loss: 0.3264, Accuracy: 89.28%\n",
            "[67] Test Loss: 0.3310, Accuracy: 88.95%\n",
            "[68] Test Loss: 0.3441, Accuracy: 88.96%\n",
            "[69] Test Loss: 0.3449, Accuracy: 88.99%\n",
            "[70] Test Loss: 0.3423, Accuracy: 88.74%\n",
            "[71] Test Loss: 0.3386, Accuracy: 89.28%\n",
            "[72] Test Loss: 0.3738, Accuracy: 88.22%\n",
            "[73] Test Loss: 0.3670, Accuracy: 88.57%\n",
            "[74] Test Loss: 0.3342, Accuracy: 89.32%\n",
            "[75] Test Loss: 0.3763, Accuracy: 87.78%\n",
            "[76] Test Loss: 0.3394, Accuracy: 88.97%\n",
            "[77] Test Loss: 0.3579, Accuracy: 88.58%\n",
            "[78] Test Loss: 0.3563, Accuracy: 88.74%\n",
            "[79] Test Loss: 0.3247, Accuracy: 89.55%\n",
            "[80] Test Loss: 0.3627, Accuracy: 88.10%\n",
            "[81] Test Loss: 0.3322, Accuracy: 89.54%\n",
            "[82] Test Loss: 0.3980, Accuracy: 87.44%\n",
            "[83] Test Loss: 0.3656, Accuracy: 88.40%\n",
            "[84] Test Loss: 0.3735, Accuracy: 87.83%\n",
            "[85] Test Loss: 0.3892, Accuracy: 87.46%\n",
            "[86] Test Loss: 0.3710, Accuracy: 88.17%\n",
            "[87] Test Loss: 0.3569, Accuracy: 89.08%\n",
            "[88] Test Loss: 0.3541, Accuracy: 88.63%\n",
            "[89] Test Loss: 0.3421, Accuracy: 88.52%\n",
            "[90] Test Loss: 0.3715, Accuracy: 88.01%\n",
            "[91] Test Loss: 0.3406, Accuracy: 88.73%\n",
            "[92] Test Loss: 0.3913, Accuracy: 87.57%\n",
            "[93] Test Loss: 0.3531, Accuracy: 88.91%\n",
            "[94] Test Loss: 0.3844, Accuracy: 87.75%\n",
            "[95] Test Loss: 0.3493, Accuracy: 88.73%\n",
            "[96] Test Loss: 0.4053, Accuracy: 87.55%\n",
            "[97] Test Loss: 0.4004, Accuracy: 87.94%\n",
            "[98] Test Loss: 0.3673, Accuracy: 88.17%\n",
            "[99] Test Loss: 0.3796, Accuracy: 88.31%\n",
            "[100] Test Loss: 0.2875, Accuracy: 90.70%\n",
            "[101] Test Loss: 0.2830, Accuracy: 90.83%\n",
            "[102] Test Loss: 0.2801, Accuracy: 91.08%\n",
            "[103] Test Loss: 0.2812, Accuracy: 91.10%\n",
            "[104] Test Loss: 0.2764, Accuracy: 90.97%\n",
            "[105] Test Loss: 0.2812, Accuracy: 91.03%\n",
            "[106] Test Loss: 0.2826, Accuracy: 90.77%\n",
            "[107] Test Loss: 0.2779, Accuracy: 91.15%\n",
            "[108] Test Loss: 0.2792, Accuracy: 90.94%\n",
            "[109] Test Loss: 0.2851, Accuracy: 90.92%\n",
            "[110] Test Loss: 0.2860, Accuracy: 90.88%\n",
            "[111] Test Loss: 0.2825, Accuracy: 91.02%\n",
            "[112] Test Loss: 0.2813, Accuracy: 91.21%\n",
            "[113] Test Loss: 0.2838, Accuracy: 91.04%\n",
            "[114] Test Loss: 0.2832, Accuracy: 91.04%\n",
            "[115] Test Loss: 0.2869, Accuracy: 90.81%\n",
            "[116] Test Loss: 0.2838, Accuracy: 90.97%\n",
            "[117] Test Loss: 0.2849, Accuracy: 90.88%\n",
            "[118] Test Loss: 0.2852, Accuracy: 90.80%\n",
            "[119] Test Loss: 0.2885, Accuracy: 90.82%\n",
            "[120] Test Loss: 0.2888, Accuracy: 90.76%\n",
            "[121] Test Loss: 0.2913, Accuracy: 90.94%\n",
            "[122] Test Loss: 0.2906, Accuracy: 90.93%\n",
            "[123] Test Loss: 0.2960, Accuracy: 90.84%\n",
            "[124] Test Loss: 0.2909, Accuracy: 90.94%\n",
            "[125] Test Loss: 0.2923, Accuracy: 90.86%\n",
            "[126] Test Loss: 0.2866, Accuracy: 91.04%\n",
            "[127] Test Loss: 0.2908, Accuracy: 90.70%\n",
            "[128] Test Loss: 0.2901, Accuracy: 91.05%\n",
            "[129] Test Loss: 0.2921, Accuracy: 90.88%\n",
            "[130] Test Loss: 0.2878, Accuracy: 91.08%\n",
            "[131] Test Loss: 0.2977, Accuracy: 90.75%\n",
            "[132] Test Loss: 0.2968, Accuracy: 90.90%\n",
            "[133] Test Loss: 0.2955, Accuracy: 91.01%\n",
            "[134] Test Loss: 0.2969, Accuracy: 90.77%\n",
            "[135] Test Loss: 0.2991, Accuracy: 90.86%\n",
            "[136] Test Loss: 0.2966, Accuracy: 90.89%\n",
            "[137] Test Loss: 0.2971, Accuracy: 91.00%\n",
            "[138] Test Loss: 0.2980, Accuracy: 91.02%\n",
            "[139] Test Loss: 0.3087, Accuracy: 90.84%\n",
            "[140] Test Loss: 0.3041, Accuracy: 90.70%\n",
            "[141] Test Loss: 0.3050, Accuracy: 90.99%\n",
            "[142] Test Loss: 0.3072, Accuracy: 90.78%\n",
            "[143] Test Loss: 0.2979, Accuracy: 90.99%\n",
            "[144] Test Loss: 0.3036, Accuracy: 90.98%\n",
            "[145] Test Loss: 0.3056, Accuracy: 90.59%\n",
            "[146] Test Loss: 0.3027, Accuracy: 91.09%\n",
            "[147] Test Loss: 0.3072, Accuracy: 90.83%\n",
            "[148] Test Loss: 0.2981, Accuracy: 91.00%\n",
            "[149] Test Loss: 0.3106, Accuracy: 90.82%\n",
            "[150] Test Loss: 0.3027, Accuracy: 90.90%\n",
            "[151] Test Loss: 0.3051, Accuracy: 90.83%\n",
            "[152] Test Loss: 0.3022, Accuracy: 90.92%\n",
            "[153] Test Loss: 0.3010, Accuracy: 91.15%\n",
            "[154] Test Loss: 0.3011, Accuracy: 90.98%\n",
            "[155] Test Loss: 0.3020, Accuracy: 90.94%\n",
            "[156] Test Loss: 0.2992, Accuracy: 91.06%\n",
            "[157] Test Loss: 0.3027, Accuracy: 91.06%\n",
            "[158] Test Loss: 0.3036, Accuracy: 91.06%\n",
            "[159] Test Loss: 0.2993, Accuracy: 91.08%\n",
            "[160] Test Loss: 0.3060, Accuracy: 90.86%\n",
            "[161] Test Loss: 0.2992, Accuracy: 91.04%\n",
            "[162] Test Loss: 0.3018, Accuracy: 91.07%\n",
            "[163] Test Loss: 0.3026, Accuracy: 90.97%\n",
            "[164] Test Loss: 0.2998, Accuracy: 91.09%\n",
            "[165] Test Loss: 0.2983, Accuracy: 91.10%\n",
            "[166] Test Loss: 0.3013, Accuracy: 90.99%\n",
            "[167] Test Loss: 0.3022, Accuracy: 91.07%\n",
            "[168] Test Loss: 0.3042, Accuracy: 91.12%\n",
            "[169] Test Loss: 0.3008, Accuracy: 91.04%\n",
            "[170] Test Loss: 0.3026, Accuracy: 91.11%\n",
            "[171] Test Loss: 0.2990, Accuracy: 91.20%\n",
            "[172] Test Loss: 0.3013, Accuracy: 91.04%\n",
            "[173] Test Loss: 0.3029, Accuracy: 91.03%\n",
            "[174] Test Loss: 0.3010, Accuracy: 91.16%\n",
            "[175] Test Loss: 0.3008, Accuracy: 90.94%\n",
            "[176] Test Loss: 0.2997, Accuracy: 91.26%\n",
            "[177] Test Loss: 0.3029, Accuracy: 91.27%\n",
            "[178] Test Loss: 0.3027, Accuracy: 91.04%\n",
            "[179] Test Loss: 0.3037, Accuracy: 91.10%\n",
            "[180] Test Loss: 0.3019, Accuracy: 90.94%\n",
            "[181] Test Loss: 0.3016, Accuracy: 91.10%\n",
            "[182] Test Loss: 0.3052, Accuracy: 91.05%\n",
            "[183] Test Loss: 0.3003, Accuracy: 91.00%\n",
            "[184] Test Loss: 0.3022, Accuracy: 91.06%\n",
            "[185] Test Loss: 0.3021, Accuracy: 91.07%\n",
            "[186] Test Loss: 0.3006, Accuracy: 91.04%\n",
            "[187] Test Loss: 0.3027, Accuracy: 91.05%\n",
            "[188] Test Loss: 0.3013, Accuracy: 90.98%\n",
            "[189] Test Loss: 0.3027, Accuracy: 90.96%\n",
            "[190] Test Loss: 0.3038, Accuracy: 90.93%\n",
            "[191] Test Loss: 0.3024, Accuracy: 90.99%\n",
            "[192] Test Loss: 0.3029, Accuracy: 90.94%\n",
            "[193] Test Loss: 0.3021, Accuracy: 90.94%\n",
            "[194] Test Loss: 0.3044, Accuracy: 90.93%\n",
            "[195] Test Loss: 0.3049, Accuracy: 91.03%\n",
            "[196] Test Loss: 0.2998, Accuracy: 91.04%\n",
            "[197] Test Loss: 0.3012, Accuracy: 90.97%\n",
            "[198] Test Loss: 0.3033, Accuracy: 90.93%\n",
            "[199] Test Loss: 0.3048, Accuracy: 90.96%\n",
            "[200] Test Loss: 0.3063, Accuracy: 90.90%\n",
            "[201] Test Loss: 0.3029, Accuracy: 90.98%\n",
            "[202] Test Loss: 0.3055, Accuracy: 91.04%\n",
            "[203] Test Loss: 0.3075, Accuracy: 90.83%\n",
            "[204] Test Loss: 0.3014, Accuracy: 90.99%\n",
            "[205] Test Loss: 0.3057, Accuracy: 91.00%\n",
            "[206] Test Loss: 0.3041, Accuracy: 90.96%\n",
            "[207] Test Loss: 0.3030, Accuracy: 91.04%\n",
            "[208] Test Loss: 0.3026, Accuracy: 90.96%\n",
            "[209] Test Loss: 0.3024, Accuracy: 90.99%\n",
            "[210] Test Loss: 0.3002, Accuracy: 91.07%\n",
            "[211] Test Loss: 0.3044, Accuracy: 91.01%\n",
            "[212] Test Loss: 0.3026, Accuracy: 91.03%\n",
            "[213] Test Loss: 0.3014, Accuracy: 91.01%\n",
            "[214] Test Loss: 0.3045, Accuracy: 91.09%\n",
            "[215] Test Loss: 0.3024, Accuracy: 91.02%\n",
            "[216] Test Loss: 0.3073, Accuracy: 91.09%\n",
            "[217] Test Loss: 0.3050, Accuracy: 91.04%\n",
            "[218] Test Loss: 0.3016, Accuracy: 91.11%\n",
            "[219] Test Loss: 0.3055, Accuracy: 90.85%\n",
            "[220] Test Loss: 0.3036, Accuracy: 91.02%\n",
            "[221] Test Loss: 0.3021, Accuracy: 91.05%\n",
            "[222] Test Loss: 0.3044, Accuracy: 91.07%\n",
            "[223] Test Loss: 0.3044, Accuracy: 91.00%\n"
          ],
          "name": "stdout"
        }
      ]
    }
  ]
}